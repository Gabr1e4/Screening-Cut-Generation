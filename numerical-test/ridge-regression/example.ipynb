{
 "cells": [
  {
   "cell_type": "markdown",
   "id": "cf586167",
   "metadata": {},
   "source": [
    "# $l_0$-constrained Ridge Regression\n",
    "\n",
    "In this notebook, we show example usage of SCG on Sparse Ridge Regression, namely:\n",
    "$$\\underset{\\|\\boldsymbol{\\beta}\\|_0 \\leq k}{\\operatorname{min}} \\frac{1}{n} \\|\\boldsymbol{X} \\boldsymbol{\\beta} - \\boldsymbol{Y}\\|_2^2 + \\gamma \\|\\boldsymbol{\\beta} \\|_2^2$$\n",
    "<!-- where we use $\\tilde{\\boldsymbol{\\beta}}$ to denote the optimal solution.  -->\n",
    "\n",
    "<!-- The data generation follows the procedure in [Bertsimas et al. (2019)](https://arxiv.org/pdf/1902.06547). Below are some quick links to different sections: \n",
    "- [Playground](#playground)\n",
    "    - [Ground-truth Checking](#ground_truth_checking)\n",
    "- [Formal Testing](#formal_testing)\n",
    "- [Plotting](#plotting)\n",
    "    - [Solved Instances](#sol_instance)\n",
    "    - [Fixed Indices](#indices_fixed) -->"
   ]
  },
  {
   "cell_type": "code",
   "execution_count": 19,
   "id": "57ca3fb1",
   "metadata": {},
   "outputs": [],
   "source": [
    "# === import packages ===\n",
    "import sys \n",
    "sys.path.append(\"../..\") \n",
    "from source import utils,env,main,test\n",
    "import numpy as np\n",
    "import pandas as pd\n",
    "import random\n",
    "import math\n",
    "import time"
   ]
  },
  {
   "cell_type": "markdown",
   "id": "f2c6f809",
   "metadata": {},
   "source": [
    "----"
   ]
  },
  {
   "cell_type": "markdown",
   "id": "dba06531",
   "metadata": {},
   "source": [
    " ## Generate Synthetic dataset \n",
    "<!-- This section conducts numerical experiments on synthetic datasets to demonstrate the efficiency of our proposed SCG method compared with the existing baseline, Safe Screening Rules (SSR) in the pre-processing step.  -->"
   ]
  },
  {
   "cell_type": "code",
   "execution_count": 21,
   "id": "8c7fe19d",
   "metadata": {},
   "outputs": [],
   "source": [
    "# === Generate synthetic dataset ===\n",
    "random_seed = None\n",
    "num = 50\n",
    "dim = 500\n",
    "sparsity_ = 10\n",
    "rho_ = 0.5\n",
    "SNR_ = 3.5\n",
    "(X,Y,beta_true) = env.sparse_generation(num = num,\n",
    "                              dim = dim,\n",
    "                              sparsity=sparsity_,\n",
    "                              rho = rho_,\n",
    "                              SNR = SNR_,\n",
    "                              random_seed = random_seed)\n",
    "\n",
    "\n",
    "gamma_ = 5"
   ]
  },
  {
   "cell_type": "markdown",
   "id": "e7fefe05-eb4a-4835-bac2-30190b335b33",
   "metadata": {},
   "source": [
    "----"
   ]
  },
  {
   "cell_type": "markdown",
   "id": "43e6dcfa-145e-434d-82e9-b62f67cd779c",
   "metadata": {},
   "source": [
    " ## Apply SCG to generate cuts"
   ]
  },
  {
   "cell_type": "code",
   "execution_count": 29,
   "id": "00828e6a",
   "metadata": {
    "scrolled": true
   },
   "outputs": [],
   "source": [
    "inc_max, inc_len = sparsity_, 2  # default setting for inclusive cuts generation\n",
    "exc_max, exc_len = dim - sparsity_, 3 # default setting for exclusive cuts generation\n",
    "\n",
    "\n",
    "# === start SCG to generate cuts ===\n",
    "procedure = main.ridge_screen(covariate=X,response=Y,gamma = gamma_,sparsity = sparsity_)\n",
    "\n",
    "procedure.get_feas_beta_ub(relax_solver='gurobi')\n",
    "\n",
    "\n",
    "S_inc,Z_inc = procedure.inclusive_cuts(max_num = inc_max, max_len = inc_len)\n",
    "\n",
    "S_exc,Z_exc = procedure.exclusive_cuts(max_num = exc_max, max_len = exc_len)"
   ]
  },
  {
   "cell_type": "markdown",
   "id": "b78daa6a-1768-434e-a571-1891917a9fe2",
   "metadata": {},
   "source": [
    "----"
   ]
  },
  {
   "cell_type": "markdown",
   "id": "808d220d-6263-4638-ad0c-a71f958d1689",
   "metadata": {},
   "source": [
    "## Solve the problem with SCG"
   ]
  },
  {
   "cell_type": "code",
   "execution_count": 31,
   "id": "1f66fbb3",
   "metadata": {
    "scrolled": true
   },
   "outputs": [],
   "source": [
    "# === Solver settings ===\n",
    "time_lim = 15 * 60\n",
    "output_log = 0\n",
    "ite_lim = None\n",
    "gap_lim = 0.01\n",
    "\n",
    "\n",
    "print('=== start solving with SCG ===')\n",
    "current_time = time.time()\n",
    "SCG_model = utils.ridge_train(X = X,Y = Y,\n",
    "                          sparsity=sparsity_,gamma = gamma_,\n",
    "                          Outputlog=output_log,mip_gap = gap_lim,\n",
    "                          S_set = S_inc+S_exc, Z_set = Z_inc+Z_exc,\n",
    "                          max_ite = ite_lim,max_min = time_lim)\n",
    "end_time = time.time()\n",
    "print('solving time:', end_time - current_time)\n",
    "print('=== done ===')"
   ]
  }
 ],
 "metadata": {
  "kernelspec": {
   "display_name": "opt_env",
   "language": "python",
   "name": "opt_env"
  },
  "language_info": {
   "codemirror_mode": {
    "name": "ipython",
    "version": 3
   },
   "file_extension": ".py",
   "mimetype": "text/x-python",
   "name": "python",
   "nbconvert_exporter": "python",
   "pygments_lexer": "ipython3",
   "version": "3.9.18"
  }
 },
 "nbformat": 4,
 "nbformat_minor": 5
}
