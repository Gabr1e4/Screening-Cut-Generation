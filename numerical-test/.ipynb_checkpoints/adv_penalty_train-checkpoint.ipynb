{
 "cells": [
  {
   "cell_type": "markdown",
   "id": "5fa799e4",
   "metadata": {},
   "source": [
    "## Numerical Test\n",
    "\n",
    "$\\textbf{1}.$ First, we define some notations. $$ R^{adv}(\\boldsymbol{\\beta};\\delta,\\lVert \\cdot \\rVert):= \\frac{1}{n} \\sum_{i=1}^n \\underset{\\lVert \\Delta \\boldsymbol{x}_i \\rVert \\leq \\delta}{\\operatorname{max}} \\left(  y_i - (\\boldsymbol{x}_i + \\Delta \\boldsymbol{x}_i)^T \\boldsymbol{\\beta} \\right)^2 = \\frac{1}{n} \\sum_{i=1}^n  \\left(  |y_i - \\boldsymbol{x}_i^T \\boldsymbol{\\beta}| + \\delta \\lVert \\boldsymbol{\\beta} \\rVert_* \\right)^2$$ where $\\lVert \\cdot \\rVert_*$ denotes the dual norm of $\\lVert \\cdot \\rVert$, i.e. $\\lVert \\boldsymbol{\\beta} \\rVert_* = \\operatorname{sup}_{\\lVert \\boldsymbol{\\alpha} \\rVert \\leq 1} \\langle \\boldsymbol{\\alpha}, \\boldsymbol{\\beta} \\rangle = \\operatorname{sup}_{\\lVert \\boldsymbol{\\alpha} \\rVert = 1} \\langle \\boldsymbol{\\alpha}, \\boldsymbol{\\beta} \\rangle$.\n",
    "\n",
    "$\\textbf{2}.$ We consider the following problems:\n",
    "$$\\underset{\\lVert \\boldsymbol{\\beta} \\rVert_0 \\leq s}{\\operatorname{min}} R^{adv}(\\boldsymbol{\\beta};\\delta,\\lVert \\cdot \\rVert)$$\n",
    "\n",
    "$$\\underset{\\lVert \\boldsymbol{\\beta} \\rVert_0 \\leq s}{\\operatorname{min}} R^{adv}(\\boldsymbol{\\beta};\\delta,\\lVert \\cdot \\rVert) + \\gamma \\| \\boldsymbol{\\beta} \\|_2^2$$\n",
    "\n",
    "The optimization problem is referred as sparse adversarial training. Our goal in this section is to test the screening method effect.\n",
    "\n",
    "<!-- One correlated class of problems is called minimum norm interpolator, i.e.\n",
    "$$\\underset{\\boldsymbol{\\beta}: \\boldsymbol{X}\\boldsymbol{\\beta} = \\boldsymbol{y}}{\\operatorname{min}} \\lVert \\boldsymbol{\\beta} \\rVert_* \\quad \\text{and} \\quad \\underset{\\boldsymbol{\\beta}: \\boldsymbol{X}\\boldsymbol{\\beta} = \\boldsymbol{y}}{\\operatorname{min}} \\lVert \\boldsymbol{\\beta} \\rVert_* ~ \\text{s.t.}~ \\lVert \\boldsymbol{\\beta} \\rVert_0 \\leq s$$ -->"
   ]
  },
  {
   "cell_type": "code",
   "execution_count": 1,
   "id": "b4616880",
   "metadata": {},
   "outputs": [],
   "source": [
    "# import packages\n",
    "import sys \n",
    "sys.path.append(\"..\") \n",
    "from source import utils,env,main\n",
    "import numpy as np\n",
    "import gurobipy as gp\n",
    "from gurobipy import GRB\n",
    "from mosek.fusion import *\n",
    "import mosek.fusion.pythonic\n",
    "import matplotlib.pyplot as plt\n",
    "# import seaborn as sns"
   ]
  },
  {
   "cell_type": "code",
   "execution_count": 2,
   "id": "3d10c9dd",
   "metadata": {},
   "outputs": [],
   "source": [
    "# --- define functions for numerical records ---\n",
    "def screen_record(\n",
    "    num,\n",
    "    dim,\n",
    "    intervel_len,\n",
    "    delta,\n",
    "    sparsity,\n",
    "    rho,\n",
    "    SNR,\n",
    "    gamma_i,\n",
    "    instances,\n",
    "    adv_norm = 2,\n",
    "    dual_norm = 2):\n",
    "    \n",
    "    # For numerical record\n",
    "    intervel_num = dim //intervel_len + 2    \n",
    "    record = np.zeros(intervel_num)\n",
    "    \n",
    "    # begin screening\n",
    "    for random_seed_ in range(instances):\n",
    "        (X,Y) = env.sparse_generation(num = num,\n",
    "                              dim = dim,\n",
    "                              sparsity=sparsity,\n",
    "                              rho = rho,\n",
    "                              SNR = SNR,\n",
    "                              random_seed=random_seed_)\n",
    "        gamma_ = 1/env.generate_gamma(X = X,sparsity=sparsity,i = gamma_i)\n",
    "        procedure = main.adv_penalty_screen(covariate=X,\n",
    "                                            response=Y,\n",
    "                                            delta = delta,\n",
    "                                            adv_norm = adv_norm,\n",
    "                                            dual_norm = dual_norm,\n",
    "                                            sparsity=sparsity,\n",
    "                                            gamma=gamma_)\n",
    "        procedure.fenchel_screen()\n",
    "        variable_fix = len(procedure.support_index+procedure.zero_index)\n",
    "        if variable_fix == 0:\n",
    "            record[0]+=1\n",
    "        elif variable_fix == dim:\n",
    "            record[-1]+=1\n",
    "        elif variable_fix == (dim-1):\n",
    "            record[-2]+=1\n",
    "        elif variable_fix%intervel_len == 0:\n",
    "            record[variable_fix // intervel_len] +=1\n",
    "        else:\n",
    "            record[(variable_fix // intervel_len) + 1] +=1\n",
    "    \n",
    "    return record"
   ]
  },
  {
   "cell_type": "code",
   "execution_count": 34,
   "id": "c2439e69",
   "metadata": {},
   "outputs": [],
   "source": [
    "# --- Generate instances for testing ---\n",
    "num = 100\n",
    "dim = 500\n",
    "sparsity_ = 30\n",
    "rho_ = 0.7\n",
    "SNR_ = 6\n",
    "(X,Y) = env.sparse_generation(num = num,\n",
    "                              dim = dim,\n",
    "                              sparsity=sparsity_,\n",
    "                              rho = rho_,\n",
    "                              SNR = SNR_)\n",
    "gamma_ = 1/env.generate_gamma(X = X,sparsity=sparsity_,i = 0)\n",
    "# gamma_ = 2000\n",
    "delta_ = 1e-1"
   ]
  },
  {
   "cell_type": "code",
   "execution_count": 35,
   "id": "5a011c21",
   "metadata": {},
   "outputs": [],
   "source": [
    "# Testing fenchel screen\n",
    "procedure = main.adv_penalty_screen(\n",
    "covariate=X,response=Y,delta=delta_,sparsity=sparsity_,gamma=gamma_)\n",
    "procedure.fenchel_screen()"
   ]
  },
  {
   "cell_type": "code",
   "execution_count": 36,
   "id": "3c479424",
   "metadata": {
    "scrolled": true
   },
   "outputs": [
    {
     "data": {
      "text/plain": [
       "(23, 458)"
      ]
     },
     "execution_count": 36,
     "metadata": {},
     "output_type": "execute_result"
    }
   ],
   "source": [
    "len(procedure.support_index),len(procedure.zero_index)"
   ]
  },
  {
   "cell_type": "code",
   "execution_count": 6,
   "id": "83540703",
   "metadata": {
    "scrolled": true
   },
   "outputs": [
    {
     "name": "stdout",
     "output_type": "stream",
     "text": [
      "33.783396071993984\n",
      "33.783395964777085\n"
     ]
    }
   ],
   "source": [
    "# Testing strong duality\n",
    "# build model\n",
    "relax_model = utils.fenchel_relax_mosek(\n",
    "X = X,Y = Y,delta=delta_,gamma=gamma_,sparsity=sparsity_,dual_norm = 2,support_index = None)\n",
    "print(relax_model.primalObjValue())\n",
    "\n",
    "dual_model = utils.fenchel_relax_dual_mosek(\n",
    "X = X,Y = Y,delta=delta_,gamma=gamma_,sparsity=sparsity_,adv_norm = 2,support_index = None)\n",
    "print(dual_model.primalObjValue())"
   ]
  },
  {
   "cell_type": "code",
   "execution_count": 4,
   "id": "761d6400",
   "metadata": {},
   "outputs": [
    {
     "name": "stdout",
     "output_type": "stream",
     "text": [
      "Set parameter Username\n",
      "Academic license - for non-commercial use only - expires 2025-02-12\n"
     ]
    },
    {
     "data": {
      "image/png": "[encoded data removed]",
      "text/plain": [
       "<Figure size 800x640 with 1 Axes>"
      ]
     },
     "metadata": {},
     "output_type": "display_data"
    }
   ],
   "source": [
    "# --- General Settings ---\n",
    "num = 100\n",
    "dim = 500\n",
    "adv_norm = 2\n",
    "dual_norm = 2\n",
    "delta = 1\n",
    "intervel_len = 25\n",
    "intervel_num = dim //intervel_len + 2 \n",
    "instances = 1\n",
    "\n",
    "# --- Data Synthetic Settings ---\n",
    "sparsity_set = [10,30,50]\n",
    "rho_set = [0.2,0.5,0.7]\n",
    "SNR_set = [0.05,1,6]\n",
    "gamma_i_set = [-1,0]  #[-1,0,2,4]\n",
    "combination = len(sparsity_set)*len(rho_set)*len(SNR_set)*len(gamma_i_set)\n",
    "\n",
    "record = np.zeros(intervel_num)\n",
    "for sparsity_ in sparsity_set:\n",
    "    for rho_ in rho_set:\n",
    "        for SNR_ in SNR_set:\n",
    "            for gamma_i_ in gamma_i_set:\n",
    "                record += screen_record(\n",
    "                    num = num,\n",
    "                    dim = dim,\n",
    "                    intervel_len=intervel_len,\n",
    "                    sparsity=sparsity_,\n",
    "                    delta = delta,\n",
    "                    rho = rho_,\n",
    "                    SNR = SNR_,\n",
    "                    gamma_i = gamma_i_,\n",
    "                    instances=instances,\n",
    "                    adv_norm = adv_norm,\n",
    "                    dual_norm = dual_norm)\n",
    "\n",
    "# Visualize the results\n",
    "plt.figure(figsize=(10,8),dpi = 80)\n",
    "plt.xticks(rotation = 90)\n",
    "label = ['=0'] + [(i+1)*intervel_len for i in range(intervel_num-3)] + [dim - 1,'='+str(dim)]\n",
    "plt.bar(range(intervel_num),record/(instances*combination),tick_label = label)\n",
    "plt.xlabel('# variables fixed')\n",
    "plt.ylabel('Proportion')\n",
    "plt.show()       "
   ]
  }
 ],
 "metadata": {
  "kernelspec": {
   "display_name": "gb_11",
   "language": "python",
   "name": "gb_11"
  },
  "language_info": {
   "codemirror_mode": {
    "name": "ipython",
    "version": 3
   },
   "file_extension": ".py",
   "mimetype": "text/x-python",
   "name": "python",
   "nbconvert_exporter": "python",
   "pygments_lexer": "ipython3",
   "version": "3.9.18"
  }
 },
 "nbformat": 4,
 "nbformat_minor": 5
}
